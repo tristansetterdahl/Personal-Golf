{
 "cells": [
  {
   "cell_type": "code",
   "execution_count": 140,
   "id": "826b1f27",
   "metadata": {},
   "outputs": [],
   "source": [
    "import numpy as np\n",
    "import pandas as pd\n",
    "import os"
   ]
  },
  {
   "cell_type": "code",
   "execution_count": 356,
   "id": "e8bf04fb",
   "metadata": {},
   "outputs": [],
   "source": [
    "master18 = pd.read_csv(\"18holemaster.csv\", index_col = 0)\n",
    "pars18 = pd.read_csv(\"18holepars.csv\", index_col = 0)\n",
    "fwys18 = pd.read_csv(\"18holefwys.csv\", index_col = 0)\n",
    "gir18 = pd.read_csv(\"18holegir.csv\", index_col = 0)\n",
    "putts18 = pd.read_csv(\"18holeputts.csv\", index_col = 0)\n",
    "scores18 = pd.read_csv(\"18holescores.csv\", index_col = 0)\n",
    "yards18 = pd.read_csv(\"18holeyardages.csv\", index_col = 0)\n",
    "hdcps18 = pd.read_csv(\"18holehandicaps.csv\", index_col = 0)"
   ]
  },
  {
   "cell_type": "code",
   "execution_count": 412,
   "id": "09e23ecd",
   "metadata": {},
   "outputs": [
    {
     "data": {
      "text/html": [
       "<div>\n",
       "<style scoped>\n",
       "    .dataframe tbody tr th:only-of-type {\n",
       "        vertical-align: middle;\n",
       "    }\n",
       "\n",
       "    .dataframe tbody tr th {\n",
       "        vertical-align: top;\n",
       "    }\n",
       "\n",
       "    .dataframe thead th {\n",
       "        text-align: right;\n",
       "    }\n",
       "</style>\n",
       "<table border=\"1\" class=\"dataframe\">\n",
       "  <thead>\n",
       "    <tr style=\"text-align: right;\">\n",
       "      <th></th>\n",
       "      <th>Date</th>\n",
       "      <th>Course</th>\n",
       "      <th>Tees</th>\n",
       "      <th>Yardage</th>\n",
       "      <th>Rating</th>\n",
       "      <th>Slope</th>\n",
       "      <th>Low Temp</th>\n",
       "      <th>Hi Temp</th>\n",
       "      <th>Wind</th>\n",
       "      <th>Gusts</th>\n",
       "      <th>...</th>\n",
       "      <th>Greens</th>\n",
       "      <th>GIR %</th>\n",
       "      <th>Putts</th>\n",
       "      <th>3 Putts</th>\n",
       "      <th>Par 3 Diff</th>\n",
       "      <th>Par 3 Avg</th>\n",
       "      <th>Par 4 Diff</th>\n",
       "      <th>Par 4 Avg</th>\n",
       "      <th>Par 5 Diff</th>\n",
       "      <th>Par 5 Avg</th>\n",
       "    </tr>\n",
       "    <tr>\n",
       "      <th>Round</th>\n",
       "      <th></th>\n",
       "      <th></th>\n",
       "      <th></th>\n",
       "      <th></th>\n",
       "      <th></th>\n",
       "      <th></th>\n",
       "      <th></th>\n",
       "      <th></th>\n",
       "      <th></th>\n",
       "      <th></th>\n",
       "      <th></th>\n",
       "      <th></th>\n",
       "      <th></th>\n",
       "      <th></th>\n",
       "      <th></th>\n",
       "      <th></th>\n",
       "      <th></th>\n",
       "      <th></th>\n",
       "      <th></th>\n",
       "      <th></th>\n",
       "      <th></th>\n",
       "    </tr>\n",
       "  </thead>\n",
       "  <tbody>\n",
       "  </tbody>\n",
       "</table>\n",
       "<p>0 rows × 31 columns</p>\n",
       "</div>"
      ],
      "text/plain": [
       "Empty DataFrame\n",
       "Columns: [Date, Course, Tees, Yardage, Rating, Slope, Low Temp, Hi Temp, Wind, Gusts, Front Nine Score, Back Nine Score, Total Score, Difference, Eagles or Better, Birdies, Pars, Bogies, Doubles or Worse, Fairways, Fairway %, Greens , GIR %, Putts, 3 Putts, Par 3 Diff, Par 3 Avg, Par 4 Diff, Par 4 Avg, Par 5 Diff, Par 5 Avg]\n",
       "Index: []\n",
       "\n",
       "[0 rows x 31 columns]"
      ]
     },
     "execution_count": 412,
     "metadata": {},
     "output_type": "execute_result"
    }
   ],
   "source": [
    "master18"
   ]
  },
  {
   "cell_type": "code",
   "execution_count": null,
   "id": "46daaa9c",
   "metadata": {},
   "outputs": [],
   "source": []
  },
  {
   "cell_type": "code",
   "execution_count": null,
   "id": "16f0d1bb",
   "metadata": {},
   "outputs": [],
   "source": []
  },
  {
   "cell_type": "code",
   "execution_count": null,
   "id": "7e75ec31",
   "metadata": {},
   "outputs": [],
   "source": []
  },
  {
   "cell_type": "code",
   "execution_count": null,
   "id": "7995d472",
   "metadata": {},
   "outputs": [],
   "source": []
  },
  {
   "cell_type": "code",
   "execution_count": 374,
   "id": "56b0423b",
   "metadata": {},
   "outputs": [],
   "source": [
    "def howmanyholes():\n",
    "    while True:\n",
    "        num_holes = int(input('How many holes did you play? '))\n",
    "        if num_holes not in (9, 18):\n",
    "            print('Only enter 9 or 18 hole scores.')\n",
    "        else:\n",
    "            if num_holes == 9:\n",
    "                 num_rounds = len(master9) + 1\n",
    "                 print('This is your {num_rounds} 9 hole round')\n",
    "            elif num_holes == 18:\n",
    "                 num_rounds = len(master18) + 1\n",
    "                 print('This is your ' + str(num_rounds) + ' 18 hole round')            \n",
    "            break\n",
    "    return num_holes"
   ]
  },
  {
   "cell_type": "code",
   "execution_count": 367,
   "id": "ed4d98e4",
   "metadata": {},
   "outputs": [],
   "source": [
    "def courseinfo():\n",
    "    while True:\n",
    "        date = input('What date was the round? (mm/dd/yy) ')\n",
    "        course = input('What course did you play? ')\n",
    "        if course.lower() == 'cantigny':\n",
    "            cantigny_nines = input('Which Routing?\\n1. Woodside/Lakeside\\n2. Woodside/Hillside\\n3. Lakeside/Hillside\\n')\n",
    "        tees = input('What tees did you play? ')\n",
    "        course_yardage = int(input('What is the course yardage? '))\n",
    "        rating = float(input('What is the course rating? '))\n",
    "        slope = float(input('What is the course slope? '))\n",
    "        temp_lo = int(input('Low temperature during the round? '))\n",
    "        temp_hi = int(input('High temperature during the round? '))\n",
    "        wind_speed = int(input('Wind speed during the round? '))\n",
    "        gust_speed = int(input('Gust speeds during the round? '))\n",
    "        round_info = {'Date':date, 'Course':course, 'Tees':tees,\n",
    "                                   'Yardage':course_yardage, 'Rating':rating, 'slope':slope,\n",
    "                                   'Low Temperature':temp_lo, 'High Temperature':temp_hi,\n",
    "                     'Wind Speed':wind_speed, 'Gust Speed':gust_speed}\n",
    "        print(round_info)\n",
    "        cont = input('Is this correct? ')\n",
    "        if cont.lower() == 'y':\n",
    "            round_info = [date, course, tees, course_yardage, rating, slope, temp_lo, temp_hi, wind_speed,\n",
    "                         gust_speed]\n",
    "            break\n",
    "        else:\n",
    "            print('Ok, redo it')\n",
    "    return course\n"
   ]
  },
  {
   "cell_type": "code",
   "execution_count": 409,
   "id": "28e1ccdd",
   "metadata": {},
   "outputs": [],
   "source": [
    "def holebyhole(course, num_holes):\n",
    "    hole = 0\n",
    "    round_dic = {'Course':course}\n",
    "    round_hdcps = np.array([course])\n",
    "    round_yards = np.array([course])\n",
    "    round_pars = np.array([course])\n",
    "    round_fwys = np.array([course])\n",
    "    round_girs = np.array([course])\n",
    "    round_putts = np.array([course])\n",
    "    round_scores = np.array([course])\n",
    "    \n",
    "    while hole < num_holes:\n",
    "        \n",
    "        while True:\n",
    "            \n",
    "            hdcp = int(input('Hole ' + str(hole +1 ) + ' handicap '))\n",
    "            hole_yards = int(input('Hole ' + str(hole + 1) + ' yardage '))\n",
    "            hole_par = int(input('Hole ' + str(hole + 1) + ' par '))\n",
    "            hole_fwy = input('Hole ' + str(hole + 1) + ' fairway? (Y/L/R/S/D, NA for par 3s) ')\n",
    "            hole_gir = input('Hole ' + str(hole + 1) + ' green in regulation? (Y/L/R/S/D) ')\n",
    "            hole_putts = int(input('Hole ' + str(hole + 1) + ' putts '))\n",
    "            hole_score = int(input('Hole ' + str(hole + 1) + ' score '))\n",
    "            which_hole = 'hole ' + str(hole + 1)\n",
    "            hole_info = {'HDCP':hdcp, 'Yargage':hole_yards, 'Par':hole_par,\n",
    "                                   'FWY':hole_fwy, 'GIR':hole_gir, 'Putts':hole_putts,\n",
    "                                   'Score':hole_score}\n",
    "            print(hole_info)\n",
    "            cont = input('Is this correct? ')\n",
    "            if cont.lower() == 'y':\n",
    "                round_hdcps = np.append(round_hdcps, hdcp)\n",
    "                round_yards = np.append(round_yards, hole_yards)\n",
    "                round_pars = np.append(round_pars, hole_par)\n",
    "                round_fwys = np.append(round_fwys, hole_fwy)\n",
    "                round_girs = np.append(round_girs, hole_gir)\n",
    "                round_putts = np.append(round_putts, hole_putts)\n",
    "                round_scores = np.append(round_scores, hole_score)\n",
    "                round_dic[which_hole] = hole_info\n",
    "                break\n",
    "            else:\n",
    "                print('Ok, redo it.')\n",
    "        hole += 1\n",
    "    round_ls = [round_hdcps, round_yards, round_pars, round_fwys, round_girs, round_putts, round_scores]\n",
    "    hdcps18.loc[len(hdcps18)] = round_hdcps\n",
    "    yards18.loc[len(yards18)] = round_yards\n",
    "    pars18.loc[len(pars18)] = round_pars\n",
    "    fwys18.loc[len(fwys18)] = round_fwys\n",
    "    gir18.loc[len(gir18)] = round_gir\n",
    "    putts18.loc[len(putts18)] = round_putts\n",
    "    scores18.loc[len(scores18)] = round_scores\n",
    "\n",
    "    return round_dic, round_ls, round_scores, round_pars, round_putts, round_fwys, round_gir\n"
   ]
  },
  {
   "cell_type": "code",
   "execution_count": 410,
   "id": "de468320",
   "metadata": {},
   "outputs": [],
   "source": [
    "def roundstats(num_holes, round_scores, round_pars, round_putts, round_fwys, round_gir):\n",
    "    round_scores_np = np.array(round_scores[0:])\n",
    "    round_pars_np = np.array(round_pars[0:])\n",
    "    round_putts_np = np.array(round_putts[0:])\n",
    "    if num_holes == 18:\n",
    "        front_score = np.sum(round_scores_np[0:9])\n",
    "        back_score = np.sum(round_scores_np[9:])\n",
    "    score = np.sum(round_scores[0:])\n",
    "    diff = score - rating\n",
    "    hole_diffs = round_scores_np - round_pars_np #scores to par on each hole\n",
    "    eagles = sum(np.less_equal(hole_diffs, -2))\n",
    "    birdies = sum(np.equal(hole_diffs, -1))\n",
    "    pars = sum(np.equal(hole_diffs, 0))\n",
    "    bogies = sum(np.equal(hole_diffs, 1))\n",
    "    doubles = sum(np.greater_equal(hole_diffs, 2))\n",
    "    fwys = round_fwys.count('Y')\n",
    "    fwy_per = fwys / (num_holes - sum(np.equal(round_pars, 3)))\n",
    "    gir = round_gir.count('Y')\n",
    "    gir_per = gir / num_holes\n",
    "    putts = sum(round_putts.np)\n",
    "    putts3 = sum(np.equal(round_putts_np, 3))\n",
    "    \n",
    "    \n",
    "    #finding indexes for par 3s, 4s, 5s\n",
    "    par3_idxs = np.where(round_pars_np == 3)\n",
    "    par4_idxs = np.where(round_pars_np == 4)\n",
    "    par5_idxs = np.where(round_pars_np == 5)\n",
    "    \n",
    "    #diff and averages \n",
    "    par3_diff = sum(np.subtract(round_scores_np[par3_idxs], 3))\n",
    "    par4_diff = sum(np.subtract(round_scores_np[par4_idxs], 4))\n",
    "    par5_diff = sum(np.subtract(round_scores_np[par5_idxs], 5))\n",
    "    \n",
    "    par3_avg = np.average(round_scores_np[par3_idxs])\n",
    "    par4_avg = np.average(round_scores_np[par4_idxs])\n",
    "    par5_avg = np.average(round_scores_np[par5_idxs])\n"
   ]
  },
  {
   "cell_type": "code",
   "execution_count": 411,
   "id": "5dbbed2e",
   "metadata": {},
   "outputs": [],
   "source": [
    "def getScore():\n",
    "    num_holes = howmanyholes()\n",
    "    course = courseinfo()\n",
    "    round_dic, round_ls, round_scores, round_pars, round_putts, round_fwys, round_gir = holebyhole(course, num_holes)\n",
    "    roundstats(num_holes, round_scores, round_pars, round_putts, round_fwys, round_gir)"
   ]
  },
  {
   "cell_type": "code",
   "execution_count": 413,
   "id": "3f6b5e7a",
   "metadata": {},
   "outputs": [],
   "source": [
    "test_df = pd.DataFrame()"
   ]
  },
  {
   "cell_type": "code",
   "execution_count": null,
   "id": "ceb38896",
   "metadata": {},
   "outputs": [],
   "source": []
  },
  {
   "cell_type": "code",
   "execution_count": null,
   "id": "f04ef8b8",
   "metadata": {},
   "outputs": [],
   "source": []
  },
  {
   "cell_type": "markdown",
   "id": "c0fdad06",
   "metadata": {},
   "source": [
    "howmanyholes()"
   ]
  },
  {
   "cell_type": "code",
   "execution_count": null,
   "id": "b79768b3",
   "metadata": {},
   "outputs": [],
   "source": []
  },
  {
   "cell_type": "code",
   "execution_count": 407,
   "id": "f6444a7b",
   "metadata": {},
   "outputs": [
    {
     "name": "stdout",
     "output_type": "stream",
     "text": [
      "Hole 1 handicap 5\n",
      "Hole 1 yardage 443\n",
      "Hole 1 par 4\n",
      "Hole 1 fairway? (Y/L/R/S/D, NA for par 3s) y\n",
      "Hole 1 green in regulation? (Y/L/R/S/D) y\n",
      "Hole 1 putts 2\n",
      "Hole 1 score 4\n",
      "{'HDCP': 5, 'Yargage': 443, 'Par': 4, 'FWY': 'y', 'GIR': 'y', 'Putts': 2, 'Score': 4}\n",
      "Is this correct? y\n",
      "Hole 2 handicap 8\n",
      "Hole 2 yardage 554\n",
      "Hole 2 par 5\n",
      "Hole 2 fairway? (Y/L/R/S/D, NA for par 3s) y\n",
      "Hole 2 green in regulation? (Y/L/R/S/D) y\n",
      "Hole 2 putts 1\n",
      "Hole 2 score 4\n",
      "{'HDCP': 8, 'Yargage': 554, 'Par': 5, 'FWY': 'y', 'GIR': 'y', 'Putts': 1, 'Score': 4}\n",
      "Is this correct? y\n"
     ]
    },
    {
     "data": {
      "text/plain": [
       "([array(['Village Links', '5', '8'], dtype='<U21'),\n",
       "  array(['Village Links', '443', '554'], dtype='<U21'),\n",
       "  array(['Village Links', '4', '5'], dtype='<U21'),\n",
       "  array(['Village Links', 'y', 'y'], dtype='<U13'),\n",
       "  array(['Village Links', 'y', 'y'], dtype='<U13'),\n",
       "  array(['Village Links', '2', '1'], dtype='<U21'),\n",
       "  array(['Village Links', '4', '4'], dtype='<U21')],\n",
       " {'Course': 'Village Links',\n",
       "  'hole 1': {'HDCP': 5,\n",
       "   'Yargage': 443,\n",
       "   'Par': 4,\n",
       "   'FWY': 'y',\n",
       "   'GIR': 'y',\n",
       "   'Putts': 2,\n",
       "   'Score': 4},\n",
       "  'hole 2': {'HDCP': 8,\n",
       "   'Yargage': 554,\n",
       "   'Par': 5,\n",
       "   'FWY': 'y',\n",
       "   'GIR': 'y',\n",
       "   'Putts': 1,\n",
       "   'Score': 4}})"
      ]
     },
     "execution_count": 407,
     "metadata": {},
     "output_type": "execute_result"
    }
   ],
   "source": [
    "holebyhole('Village Links', 2)"
   ]
  },
  {
   "cell_type": "code",
   "execution_count": null,
   "id": "b8d0bd48",
   "metadata": {},
   "outputs": [],
   "source": []
  },
  {
   "cell_type": "code",
   "execution_count": null,
   "id": "f5e5fe1e",
   "metadata": {},
   "outputs": [],
   "source": []
  },
  {
   "cell_type": "code",
   "execution_count": null,
   "id": "ea4c1077",
   "metadata": {},
   "outputs": [],
   "source": []
  },
  {
   "cell_type": "code",
   "execution_count": null,
   "id": "9735a357",
   "metadata": {},
   "outputs": [],
   "source": []
  },
  {
   "cell_type": "code",
   "execution_count": null,
   "id": "77350a7e",
   "metadata": {},
   "outputs": [],
   "source": []
  },
  {
   "cell_type": "code",
   "execution_count": null,
   "id": "a0cbeb0a",
   "metadata": {},
   "outputs": [],
   "source": []
  }
 ],
 "metadata": {
  "kernelspec": {
   "display_name": "Python 3 (ipykernel)",
   "language": "python",
   "name": "python3"
  },
  "language_info": {
   "codemirror_mode": {
    "name": "ipython",
    "version": 3
   },
   "file_extension": ".py",
   "mimetype": "text/x-python",
   "name": "python",
   "nbconvert_exporter": "python",
   "pygments_lexer": "ipython3",
   "version": "3.9.7"
  }
 },
 "nbformat": 4,
 "nbformat_minor": 5
}
